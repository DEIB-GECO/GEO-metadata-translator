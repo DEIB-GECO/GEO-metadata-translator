{
 "cells": [
  {
   "cell_type": "code",
   "execution_count": 1,
   "metadata": {},
   "outputs": [],
   "source": [
    "import pandas as pd\n",
    "import numpy as np\n",
    "from matplotlib import pyplot as plt\n",
    "from sklearn.metrics import precision_score,recall_score,accuracy_score"
   ]
  },
  {
   "cell_type": "code",
   "execution_count": 2,
   "metadata": {},
   "outputs": [],
   "source": [
    "DATASET = \"ENCODE\"\n",
    "\n",
    "columns_before_attributes = 4\n",
    "frame = pd.read_csv(\"../Datasets/ENCODE/ENCODE_SPLIT.csv\")"
   ]
  },
  {
   "cell_type": "code",
   "execution_count": 3,
   "metadata": {},
   "outputs": [],
   "source": [
    "def create_classification_list(frame, columns_before_attributes):\n",
    "    columns = frame.columns[columns_before_attributes:].values\n",
    "    result_columns = []\n",
    "    for col in columns:\n",
    "        values_list = [col + \"_\" + x for x in list(set(frame[col].values))]\n",
    "        result_columns.append(values_list)\n",
    "    return result_columns"
   ]
  },
  {
   "cell_type": "code",
   "execution_count": 4,
   "metadata": {},
   "outputs": [],
   "source": [
    "attributes_list = create_classification_list(frame, columns_before_attributes)\n",
    "limits = []\n",
    "tot_length = 0\n",
    "for attr in attributes_list:\n",
    "    tot_length += len(attr)\n",
    "    limits.append(tot_length)\n",
    "    "
   ]
  },
  {
   "cell_type": "code",
   "execution_count": 5,
   "metadata": {},
   "outputs": [],
   "source": [
    "file = pd.read_csv(\"Data/manually_labelled_gsm_data.csv\")"
   ]
  },
  {
   "cell_type": "code",
   "execution_count": 6,
   "metadata": {},
   "outputs": [
    {
     "data": {
      "text/plain": [
       "[26,\n",
       " 35,\n",
       " 379,\n",
       " 390,\n",
       " 819,\n",
       " 822,\n",
       " 827,\n",
       " 844,\n",
       " 1013,\n",
       " 1019,\n",
       " 1029,\n",
       " 1044,\n",
       " 1109,\n",
       " 1115,\n",
       " 1137]"
      ]
     },
     "execution_count": 6,
     "metadata": {},
     "output_type": "execute_result"
    }
   ],
   "source": [
    "limits"
   ]
  },
  {
   "cell_type": "code",
   "execution_count": 7,
   "metadata": {},
   "outputs": [],
   "source": [
    "predictions = pd.read_csv(\"Results/manually_labelled_gsm_results_RoBERTa_69epochs.csv\")"
   ]
  },
  {
   "cell_type": "code",
   "execution_count": 8,
   "metadata": {},
   "outputs": [],
   "source": [
    "attribute_names = ['Assay name','Assay type','Target of assay','Genome assembly','Biosample term name','Project','Organism','Life stage','Age','age units','Sex','Ethnicity','Health status','Classification','Investigated as']\n",
    "attributes = ['assay name: ','assay type: ','target of assay: ','genome assembly: ','biosample term name: ','project: ','organism: ','life stage: ','age: ','age units: ','sex: ','ethnicity: ','health status: ','classification: ','investigated as: ']"
   ]
  },
  {
   "cell_type": "code",
   "execution_count": 9,
   "metadata": {},
   "outputs": [
    {
     "name": "stdout",
     "output_type": "stream",
     "text": [
      "Iterating over test_set lines...\n"
     ]
    }
   ],
   "source": [
    "print(\"Iterating over test_set lines...\")\n",
    "robe_predicted_values = []\n",
    "for i, item in predictions.iterrows():\n",
    "    float_prediction = np.array(predictions.iloc[i].values)\n",
    "    predicted_indexes = []\n",
    "    #Take the last 4 elements of the argosrt (indices that where = 1) and sort the result\n",
    "    for i in range(len(attributes)):\n",
    "        if(i== 0):\n",
    "            predictions_for_attribute = float_prediction[:limits[i]]\n",
    "            max_index = np.argmax(predictions_for_attribute)\n",
    "        elif(i == len(attributes) - 1):\n",
    "            predictions_for_attribute = float_prediction[limits[i - 1]:]\n",
    "            max_index = np.argmax(predictions_for_attribute) + limits[i - 1]\n",
    "        else:\n",
    "            predictions_for_attribute = float_prediction[limits[i-1]:limits[i]]\n",
    "            max_index = np.argmax(predictions_for_attribute) + limits[i - 1]\n",
    "        predicted_indexes.append(max_index)\n",
    "    robe_predicted_values.append(predicted_indexes)"
   ]
  },
  {
   "cell_type": "code",
   "execution_count": 13,
   "metadata": {},
   "outputs": [],
   "source": [
    "roberta_text_pred = []\n",
    "for pred in robe_predicted_values:\n",
    "    tmp = \"\"\n",
    "    for i in range(len(pred)):\n",
    "        if(i>0):\n",
    "            tmp = tmp + attributes_list[i][pred[i] - limits[i-1] -1].replace(\"_\", \": \") + ' - '\n",
    "        else:\n",
    "            tmp = tmp + attributes_list[i][pred[i]].replace(\"_\", \": \") + ' - '\n",
    "    roberta_text_pred.append(tmp)"
   ]
  },
  {
   "cell_type": "code",
   "execution_count": 14,
   "metadata": {},
   "outputs": [],
   "source": [
    "results = pd.DataFrame([[x,y] for (x,y) in zip(file.GSM, roberta_text_pred)])"
   ]
  },
  {
   "cell_type": "code",
   "execution_count": 20,
   "metadata": {},
   "outputs": [],
   "source": [
    "results.to_csv(\"Results/manually_labelled_gsm_text_results_Roberta_69epochs.csv\", index = False)"
   ]
  }
 ],
 "metadata": {
  "kernelspec": {
   "display_name": "Python 3",
   "language": "python",
   "name": "python3"
  },
  "language_info": {
   "codemirror_mode": {
    "name": "ipython",
    "version": 3
   },
   "file_extension": ".py",
   "mimetype": "text/x-python",
   "name": "python",
   "nbconvert_exporter": "python",
   "pygments_lexer": "ipython3",
   "version": "3.7.5"
  }
 },
 "nbformat": 4,
 "nbformat_minor": 4
}
