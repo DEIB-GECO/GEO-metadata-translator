{
 "cells": [
  {
   "cell_type": "code",
   "execution_count": 66,
   "metadata": {},
   "outputs": [],
   "source": [
    "import pandas as pd\n",
    "import numpy as np\n",
    "from matplotlib import pyplot as plt\n",
    "from sklearn.metrics import precision_score,recall_score,accuracy_score\n",
    "from simpletransformers.classification import MultiLabelClassificationModel"
   ]
  },
  {
   "cell_type": "code",
   "execution_count": 50,
   "metadata": {},
   "outputs": [],
   "source": [
    "gpt2_results = pd.read_csv(\"Results/GPT2_47epochs_early_stopping_4th_train.csv\")\n",
    "lstm_results = pd.read_csv(\"Results/LSTM_15epochs.csv\")\n",
    "roberta_results = pd.read_csv(\"Results/RoBERTa_long_train/test_outputs_epoch69.csv\")\n",
    "roberta_raw_target = pd.read_csv(\"Results/RoBERTa_long_train/testset.csv\")"
   ]
  },
  {
   "cell_type": "code",
   "execution_count": 45,
   "metadata": {},
   "outputs": [
    {
     "name": "stdout",
     "output_type": "stream",
     "text": [
      "Title: Nanog-ChIP - Description: cell line: Sim2-expressing cells; clone: A6; antibody: anti-Nanog (D2A3) XP® (Cell Signaling #8822) - Characteristics: Mus musculus \n",
      "Cell Line: None - Cell Type: Embryonic Stem Cell - Tissue Type: Embryo - Factor: NANOG $ <pad>\n",
      "Cell Line: None - Cell Type: Embryonic Stem Cell - Tissue Type: Embryo - Factor: NANOG $\n"
     ]
    }
   ],
   "source": [
    "index = 858\n",
    "print(gpt2_results.Predicted[index].split(\"=\")[0])\n",
    "print(gpt2_results.Predicted[index].split(\"= \")[1])\n",
    "print(gpt2_results.Target[index].split(\"=\")[1])"
   ]
  },
  {
   "cell_type": "code",
   "execution_count": 51,
   "metadata": {},
   "outputs": [],
   "source": [
    "limits = [519, 671, 753, 2005]\n",
    "attributes = [\"cell line: \", \"cell type: \", \"tissue type: \", \"factor: \"]"
   ]
  },
  {
   "cell_type": "code",
   "execution_count": 28,
   "metadata": {},
   "outputs": [
    {
     "data": {
      "text/plain": [
       "1252"
      ]
     },
     "execution_count": 28,
     "metadata": {},
     "output_type": "execute_result"
    }
   ],
   "source": [
    "2005 - 753"
   ]
  },
  {
   "cell_type": "code",
   "execution_count": 52,
   "metadata": {},
   "outputs": [],
   "source": [
    "predictions_lstm = [x for x in lstm_results.Predicted]\n",
    "targets_lstm = [x.lower() for x in lstm_results.Target]\n",
    "\n",
    "predictions_gpt2 = [x.lower().split(\" = \")[1] for x in gpt2_results.Predicted]\n",
    "targets_gpt2 = [x.lower().split(\" =\")[1] for x in gpt2_results.Target]"
   ]
  },
  {
   "cell_type": "markdown",
   "metadata": {},
   "source": [
    "## COMPUTING PERFORMANCES FOR LSTM, GPT2 and RoBERTa"
   ]
  },
  {
   "cell_type": "code",
   "execution_count": 53,
   "metadata": {},
   "outputs": [],
   "source": [
    "gpt2_predicted_values = []\n",
    "gpt2_target_values = []\n",
    "errors = []\n",
    "for pr,tg in zip(predictions_gpt2, targets_gpt2):\n",
    "    list_pred = []\n",
    "    list_targ = []\n",
    "    try:\n",
    "        for i in range(len(attributes) - 1):\n",
    "            if(attributes[i] in pr):\n",
    "                list_pred.append(pr.split(attributes[i])[1].split(\" - \")[0])\n",
    "            else:\n",
    "                list_pred.append(\"<missing>\")\n",
    "            list_targ.append(tg.split(attributes[i])[1].split(\" - \")[0])\n",
    "        if(attributes[i + 1] in pr):\n",
    "            list_pred.append(pr.split(attributes[i+1])[1].replace(\" $\", \"\").replace(\" <pad>\", \"\"))\n",
    "        else:\n",
    "            list_pred.append(\"<missing>\")\n",
    "        list_targ.append(tg.split(attributes[i+1])[1].replace(\" $\", \"\"))\n",
    "        gpt2_predicted_values.append(list_pred)\n",
    "        gpt2_target_values.append(list_targ)\n",
    "    except:\n",
    "        errors.append([pr,tg])"
   ]
  },
  {
   "cell_type": "code",
   "execution_count": 54,
   "metadata": {},
   "outputs": [],
   "source": [
    "lstm_predicted_values = []\n",
    "lstm_target_values = []\n",
    "lstm_errors = []\n",
    "for pr,tg in zip(predictions_lstm, targets_lstm):\n",
    "    list_pred = []\n",
    "    list_targ = []\n",
    "    try:\n",
    "        for i in range(len(attributes) - 1):\n",
    "            if(attributes[i] in pr):\n",
    "                list_pred.append(pr.split(attributes[i])[1].split(\" - \")[0])\n",
    "            else:\n",
    "                list_pred.append(\"<missing>\")\n",
    "            list_targ.append(tg.split(attributes[i])[1].split(\" - \")[0])\n",
    "        if(attributes[i + 1] in pr):\n",
    "            list_pred.append(pr.split(attributes[i+1])[1].replace(\" <end>\", \"\").replace(\" <pad>\", \"\"))\n",
    "        else:\n",
    "            list_pred.append(\"<missing>\")\n",
    "        list_targ.append(tg.split(attributes[i+1])[1].replace(\" <end>\", \"\"))\n",
    "        lstm_predicted_values.append(list_pred)\n",
    "        lstm_target_values.append(list_targ)\n",
    "    except:\n",
    "        lstm_errors.append([pr,tg])"
   ]
  },
  {
   "cell_type": "code",
   "execution_count": 55,
   "metadata": {},
   "outputs": [
    {
     "name": "stdout",
     "output_type": "stream",
     "text": [
      "Iterating over test_set lines...\n"
     ]
    }
   ],
   "source": [
    "print(\"Iterating over test_set lines...\")\n",
    "robe_predicted_values = []\n",
    "robe_target_values = []\n",
    "for i, item in roberta_raw_target.iterrows():\n",
    "    one_hot_target = np.array(item['labels'][1:-1].split(\", \"), dtype = int)    \n",
    "    float_prediction = np.array(roberta_results.loc[i].values[1:])\n",
    "    predicted_indexes = []\n",
    "    #Take the last 4 elements of the argosrt (indices that where = 1) and sort the result\n",
    "    target_indexes = list(np.sort(np.argsort(np.array(item['labels'][1:-1].split(\", \"), dtype = int))[-4:]))\n",
    "    for i in range(len(attributes)):\n",
    "        if(i== 0):\n",
    "            predictions_for_attribute = float_prediction[:limits[i]]\n",
    "            max_index = np.argmax(predictions_for_attribute)\n",
    "        elif(i == len(attributes) - 1):\n",
    "            predictions_for_attribute = float_prediction[limits[i - 1]:]\n",
    "            max_index = np.argmax(predictions_for_attribute) + limits[i - 1]\n",
    "        else:\n",
    "            predictions_for_attribute = float_prediction[limits[i-1]:limits[i]]\n",
    "            max_index = np.argmax(predictions_for_attribute) + limits[i - 1]\n",
    "        predicted_indexes.append(max_index)\n",
    "    robe_predicted_values.append(predicted_indexes)\n",
    "    robe_target_values.append(target_indexes)\n",
    "    "
   ]
  },
  {
   "cell_type": "code",
   "execution_count": 97,
   "metadata": {},
   "outputs": [
    {
     "name": "stdout",
     "output_type": "stream",
     "text": [
      "PREDICTIONS FOR ROBERTA:\n",
      "\t[341, 667, 700, 1015]\n",
      "\t[341, 667, 700, 1015]\n",
      "PREDICTIONS FOR LSTM:\n",
      "\t['none', 'none', 'fetal liver', 'dnase']\n",
      "\t['none', 'epithelium', 'upper limb muscle', 'dnase']\n",
      "PREDICTIONS FOR GPT2:\n",
      "\t['mda-mb-453', 'epithelium', 'mammary gland', 'myc']\n",
      "\t['mda-mb-453', 'epithelium', 'mammary gland', 'myc']\n"
     ]
    }
   ],
   "source": [
    "index = 1000\n",
    "print(f\"PREDICTIONS FOR ROBERTA:\\n\\t{robe_predicted_values[index]}\\n\\t{robe_target_values[index]}\")\n",
    "print(f\"PREDICTIONS FOR LSTM:\\n\\t{lstm_predicted_values[index]}\\n\\t{lstm_target_values[index]}\")\n",
    "print(f\"PREDICTIONS FOR GPT2:\\n\\t{gpt2_predicted_values[index]}\\n\\t{gpt2_target_values[index]}\")"
   ]
  },
  {
   "cell_type": "code",
   "execution_count": 63,
   "metadata": {},
   "outputs": [],
   "source": [
    "def compute_pr_re_acc(predicted_values, target_values):\n",
    "    precisions = []\n",
    "    recalls = []\n",
    "    accuracies = []\n",
    "    for i in range(len(attributes)):\n",
    "        predictions = [x[i] for x in predicted_values]\n",
    "        target = [x[i] for x in target_values]\n",
    "        precisions.append(precision_score(target, predictions, average='macro'))\n",
    "        recalls.append(recall_score(target, predictions, average='macro'))\n",
    "        accuracies.append(accuracy_score(target,predictions))\n",
    "    return precisions, recalls, accuracies"
   ]
  },
  {
   "cell_type": "code",
   "execution_count": 64,
   "metadata": {},
   "outputs": [],
   "source": [
    "lstm_pre, lstm_rec, lstm_acc = compute_pr_re_acc(lstm_predicted_values, lstm_target_values)\n",
    "gpt2_pre, gpt2_rec, gpt2_acc = compute_pr_re_acc(gpt2_predicted_values, gpt2_target_values)\n",
    "robe_pre, robe_rec, robe_acc = compute_pr_re_acc(robe_predicted_values, robe_target_values)"
   ]
  },
  {
   "cell_type": "code",
   "execution_count": 65,
   "metadata": {},
   "outputs": [
    {
     "data": {
      "text/plain": [
       "[0.7510579507984032,\n",
       " 0.6892759769328645,\n",
       " 0.7196309557504403,\n",
       " 0.6295329450974188]"
      ]
     },
     "execution_count": 65,
     "metadata": {},
     "output_type": "execute_result"
    }
   ],
   "source": [
    "gpt2_rec"
   ]
  },
  {
   "cell_type": "code",
   "execution_count": 62,
   "metadata": {},
   "outputs": [
    {
     "data": {
      "text/plain": [
       "[0.9543735224586288,\n",
       " 0.9267139479905437,\n",
       " 0.9186761229314421,\n",
       " 0.9326241134751773]"
      ]
     },
     "execution_count": 62,
     "metadata": {},
     "output_type": "execute_result"
    }
   ],
   "source": [
    "gpt2_rec"
   ]
  },
  {
   "cell_type": "code",
   "execution_count": 59,
   "metadata": {},
   "outputs": [
    {
     "data": {
      "text/plain": [
       "[0.9543735224586288,\n",
       " 0.9267139479905437,\n",
       " 0.9186761229314421,\n",
       " 0.9326241134751773]"
      ]
     },
     "execution_count": 59,
     "metadata": {},
     "output_type": "execute_result"
    }
   ],
   "source": [
    "gpt2_rec"
   ]
  },
  {
   "cell_type": "code",
   "execution_count": 101,
   "metadata": {},
   "outputs": [],
   "source": [
    "attribute_names = [\"Cell Line\", \"Cell Type\", \"Tissue Type\", \"Factor\"]"
   ]
  },
  {
   "cell_type": "code",
   "execution_count": 106,
   "metadata": {},
   "outputs": [
    {
     "data": {
      "image/png": "[encoded data removed]",
      "text/plain": [
       "<Figure size 1440x720 with 1 Axes>"
      ]
     },
     "metadata": {
      "needs_background": "light"
     },
     "output_type": "display_data"
    }
   ],
   "source": [
    "width = 1\n",
    "x = np.arange(0,len(attribute_names)*(1+width),1+width)\n",
    "fig = plt.figure(figsize = (20,10))\n",
    "ax = plt.subplot(111)\n",
    "x_label = attribute_names\n",
    "y_1 = lstm_rec\n",
    "y_2 = gpt2_acc\n",
    "y_3 = robe_acc\n",
    "robe_plot = ax.bar(x , y_3, width-0.6, label = \"Classification with RoBERTa\")\n",
    "lstm_plot = ax.bar(x + width - 0.5,y_1, width - 0.6, label = \"Translation with LSTM + attention\")\n",
    "gpt2_plot = ax.bar(x + width,y_2,width - 0.6, label = \"Translation with GPT-2\")\n",
    "\n",
    "ax.set_xlabel('Classes', fontsize = 20)\n",
    "ax.set_title(\"Accuracy per class\", fontsize = 20)\n",
    "ax.set_ylim(0,1)\n",
    "ax.set_xticks(x + width/2)\n",
    "ax.set_xticklabels(x_label, fontsize = 20)\n",
    "ax.set_yticks(np.arange(0,1.25,0.1))\n",
    "ax.set_yticklabels([str(round(x,2)) for x in np.arange(0,1.1,0.1)], fontsize = 20)\n",
    "\n",
    "ax.legend(fontsize = 15)\n",
    "\n",
    "xlocs, xlabs = plt.xticks()\n",
    "xlocs=[i+1 for i in range(len(x))]\n",
    "for i in range(4):\n",
    "    ax.text(x[i] - 0.14 , y_3[i] + 0.01, str(round(y_3[i],2)), fontsize = 20)\n",
    "    ax.text(x[i] + width - 0.64, y_1[i]+0.01, str(round(y_1[i],2)), fontsize = 20)\n",
    "    ax.text(x[i] + width - 0.14, y_2[i]+0.01, str(round(y_2[i],2)), fontsize = 20)"
   ]
  },
  {
   "cell_type": "markdown",
   "metadata": {},
   "source": [
    "## EVALUATION ON CISTROME WITHOUT NONE VALUES"
   ]
  },
  {
   "cell_type": "code",
   "execution_count": 55,
   "metadata": {},
   "outputs": [],
   "source": [
    "lstm_predicted_values_no_none = []\n",
    "lstm_target_values_no_none = []\n",
    "lstm_errors_no_none = []\n",
    "for pr,tg in zip(predictions_lstm, targets_lstm):\n",
    "    list_pred = []\n",
    "    list_targ = []\n",
    "    try:\n",
    "        for i in range(len(attributes) - 1):\n",
    "            if(attributes[i] in pr):\n",
    "                list_pred.append(pr.split(attributes[i])[1].split(\" - \")[0])\n",
    "            else:\n",
    "                list_pred.append(\"<missing>\")\n",
    "            list_targ.append(tg.split(attributes[i])[1].split(\" - \")[0])\n",
    "        if(attributes[i + 1] in pr):\n",
    "            list_pred.append(pr.split(attributes[i+1])[1].replace(\" <end>\", \"\").replace(\" <pad>\", \"\"))\n",
    "        else:\n",
    "            list_pred.append(\"<missing>\")\n",
    "        list_targ.append(tg.split(attributes[i+1])[1].replace(\" <end>\", \"\"))\n",
    "    \n",
    "        if(\"none\" not in list_targ):\n",
    "            lstm_predicted_values_no_none.append(list_pred)\n",
    "            lstm_target_values_no_none.append(list_targ)\n",
    "    except:\n",
    "        lstm_errors.append([pr,tg])"
   ]
  },
  {
   "cell_type": "code",
   "execution_count": 56,
   "metadata": {},
   "outputs": [],
   "source": [
    "gpt2_predicted_values_no_none = []\n",
    "gpt2_target_values_no_none = []\n",
    "errors = []\n",
    "for pr,tg in zip(predictions_gpt2, targets_gpt2):\n",
    "    list_pred = []\n",
    "    list_targ = []\n",
    "    try:\n",
    "        for i in range(len(attributes) - 1):\n",
    "            if(attributes[i] in pr):\n",
    "                list_pred.append(pr.split(attributes[i])[1].split(\" - \")[0])\n",
    "            else:\n",
    "                list_pred.append(\"<missing>\")\n",
    "            list_targ.append(tg.split(attributes[i])[1].split(\" - \")[0].replace(\" $\",\"\"))\n",
    "        if(attributes[i + 1] in pr):\n",
    "            list_pred.append(pr.split(attributes[i+1])[1].replace(\" $\", \"\").replace(\" <pad>\", \"\"))\n",
    "        else:\n",
    "            list_pred.append(\"<missing>\")\n",
    "        list_targ.append(tg.split(attributes[i+1])[1].replace(\" $\", \"\"))\n",
    "        if(\"none\" not in list_targ):\n",
    "            gpt2_predicted_values_no_none.append(list_pred)\n",
    "            gpt2_target_values_no_none.append(list_targ)\n",
    "    except:\n",
    "        errors.append([pr,tg])"
   ]
  },
  {
   "cell_type": "code",
   "execution_count": 61,
   "metadata": {},
   "outputs": [],
   "source": [
    "## TODO ROBERTA"
   ]
  },
  {
   "cell_type": "code",
   "execution_count": 59,
   "metadata": {},
   "outputs": [],
   "source": [
    "lstm_pre, lstm_rec, lstm_acc = compute_pr_re_acc(lstm_predicted_values_no_none, lstm_target_values_no_none)\n",
    "gpt2_pre, gpt2_rec, gpt2_acc = compute_pr_re_acc(gpt2_predicted_values_no_none, gpt2_target_values_no_none)"
   ]
  },
  {
   "cell_type": "code",
   "execution_count": 60,
   "metadata": {},
   "outputs": [
    {
     "data": {
      "text/plain": [
       "[0.7660644504836948, 0.6911522761736, 0.5549308186160439, 0.7868772653344577]"
      ]
     },
     "execution_count": 60,
     "metadata": {},
     "output_type": "execute_result"
    }
   ],
   "source": [
    "lstm_pre"
   ]
  }
 ],
 "metadata": {
  "kernelspec": {
   "display_name": "Python 3",
   "language": "python",
   "name": "python3"
  },
  "language_info": {
   "codemirror_mode": {
    "name": "ipython",
    "version": 3
   },
   "file_extension": ".py",
   "mimetype": "text/x-python",
   "name": "python",
   "nbconvert_exporter": "python",
   "pygments_lexer": "ipython3",
   "version": "3.7.5"
  }
 },
 "nbformat": 4,
 "nbformat_minor": 4
}
